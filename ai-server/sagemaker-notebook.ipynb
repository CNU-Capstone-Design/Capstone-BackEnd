{
 "cells": [
  {
   "cell_type": "code",
   "execution_count": null,
   "id": "initial_id",
   "metadata": {
    "collapsed": true
   },
   "outputs": [],
   "source": [
    "import sagemaker\n",
    "import boto3\n",
    "sess = sagemaker.Session()\n",
    "# sagemaker session bucket -> used for uploading data, models and logs\n",
    "# sagemaker will automatically create this bucket if it not exists\n",
    "sagemaker_session_bucket=None\n",
    "if sagemaker_session_bucket is None and sess is not None:\n",
    "    # set to default bucket if a bucket name is not given\n",
    "    sagemaker_session_bucket = sess.default_bucket()\n",
    "\n",
    "try:\n",
    "    role = sagemaker.get_execution_role()\n",
    "except ValueError:\n",
    "    iam = boto3.client('iam')\n",
    "    role = iam.get_role(RoleName='sagemaker_execution_role')['Role']['Arn']\n",
    "\n",
    "sess = sagemaker.Session(default_bucket=sagemaker_session_bucket)\n",
    "\n",
    "print(f\"sagemaker role arn: {role}\")\n",
    "print(f\"sagemaker bucket: {sess.default_bucket()}\")\n",
    "print(f\"sagemaker session region: {sess.boto_region_name}\")"
   ]
  },
  {
   "cell_type": "code",
   "outputs": [],
   "source": [
    "from sagemaker.huggingface.model import HuggingFaceModel\n",
    "\n",
    "s3_model_uri=\"s3://sagemaker-ap-northeast-2-590183743566/photomaker/model.tar.gz\"\n",
    "\n",
    "# create Hugging Face Model Class\n",
    "huggingface_model = HuggingFaceModel(\n",
    "   model_data=s3_model_uri,      # path to your model and script\n",
    "   role=role,                    # iam role with permissions to create an Endpoint\n",
    "   transformers_version=\"4.37.0\",  # transformers version used\n",
    "   pytorch_version=\"2.1.0\",       # pytorch version used\n",
    "   py_version='py310',            # python version used\n",
    ")\n",
    "\n",
    "# deploy the endpoint endpoint\n",
    "predictor = huggingface_model.deploy(\n",
    "    initial_instance_count=1,\n",
    "    instance_type=\"ml.g4dn.xlarge\"\n",
    "    )"
   ],
   "metadata": {
    "collapsed": false
   },
   "id": "197a474b57a43f03"
  },
  {
   "cell_type": "code",
   "outputs": [],
   "source": [
    "from PIL import Image\n",
    "from io import BytesIO\n",
    "from IPython.display import display\n",
    "import base64\n",
    "import matplotlib.pyplot as plt\n",
    "\n",
    "# helper decoder\n",
    "def decode_base64_image(image_string):\n",
    "  base64_image = base64.b64decode(image_string)\n",
    "  buffer = BytesIO(base64_image)\n",
    "  return Image.open(buffer)\n",
    "\n",
    "# display PIL images as grid\n",
    "def display_images(images=None,columns=3, width=100, height=100):\n",
    "    plt.figure(figsize=(width, height))\n",
    "    for i, image in enumerate(images):\n",
    "        plt.subplot(int(len(images) / columns + 1), columns, i + 1)\n",
    "        plt.axis('off')\n",
    "        plt.imshow(image)"
   ],
   "metadata": {
    "collapsed": false
   },
   "id": "9e8674498bae5bb4"
  },
  {
   "cell_type": "code",
   "outputs": [],
   "source": [
    "prompt = \"스트릿 패션\"\n",
    "input_id_images = [\"https://sagemaker-ap-northeast-2-590183743566.s3.ap-northeast-2.amazonaws.com/photomaker/photo/1.jpg\", \"https://sagemaker-ap-northeast-2-590183743566.s3.ap-northeast-2.amazonaws.com/photomaker/photo/2.jpg\", \"https://sagemaker-ap-northeast-2-590183743566.s3.ap-northeast-2.amazonaws.com/photomaker/photo/3.png\"]\n",
    "data = {\n",
    "    \"inputs\": prompt,\n",
    "    \"input_id_images\" : input_id_images\n",
    "}\n",
    "prompt = \"A luxurious and sophisticated look: Tailored blazer with sharp lines, silk blouse, wide-leg trousers or a midi skirt, designer heels, statement jewelry, sleek hair and makeup, structured handbag.\"\n",
    "\n",
    "\n",
    "# run prediction\n",
    "response = predictor.predict(data={\n",
    "  \"inputs\": prompt,\n",
    "  \"input_id_images\" : input_id_images\n",
    "  }\n",
    ")\n",
    "# decode images\n",
    "decoded_images = [decode_base64_image(image) for image in response[\"generated_images\"]]\n",
    "\n",
    "# visualize generation\n",
    "display_images(decoded_images)"
   ],
   "metadata": {
    "collapsed": false
   },
   "id": "78371d881429f99f"
  },
  {
   "cell_type": "code",
   "outputs": [],
   "source": [
    "predictor.delete_model()\n",
    "predictor.delete_endpoint()"
   ],
   "metadata": {
    "collapsed": false
   },
   "id": "879ef0d455409c53"
  }
 ],
 "metadata": {
  "kernelspec": {
   "display_name": "Python 3",
   "language": "python",
   "name": "python3"
  },
  "language_info": {
   "codemirror_mode": {
    "name": "ipython",
    "version": 2
   },
   "file_extension": ".py",
   "mimetype": "text/x-python",
   "name": "python",
   "nbconvert_exporter": "python",
   "pygments_lexer": "ipython2",
   "version": "2.7.6"
  }
 },
 "nbformat": 4,
 "nbformat_minor": 5
}
